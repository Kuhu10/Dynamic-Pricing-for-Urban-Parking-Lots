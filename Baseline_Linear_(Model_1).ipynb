{
  "nbformat": 4,
  "nbformat_minor": 0,
  "metadata": {
    "colab": {
      "provenance": []
    },
    "kernelspec": {
      "name": "python3",
      "display_name": "Python 3"
    },
    "language_info": {
      "name": "python"
    }
  },
  "cells": [
    {
      "cell_type": "markdown",
      "source": [
        "# **MODEL 1**"
      ],
      "metadata": {
        "id": "AZWm8SV5pEew"
      }
    },
    {
      "cell_type": "code",
      "source": [
        "!pip install pathway bokeh --quiet"
      ],
      "metadata": {
        "id": "WOtxxXiyXkyk"
      },
      "execution_count": null,
      "outputs": []
    },
    {
      "cell_type": "code",
      "source": [
        "import warnings\n",
        "warnings.filterwarnings(\"ignore\", category=UserWarning, module='bokeh')"
      ],
      "metadata": {
        "id": "Ni-QimQGX6ER"
      },
      "execution_count": null,
      "outputs": []
    },
    {
      "cell_type": "code",
      "source": [
        "import numpy as np\n",
        "import pandas as pd\n",
        "import matplotlib.pyplot as plt\n",
        "import seaborn as sns\n",
        "import datetime\n",
        "from datetime import datetime\n",
        "import pathway as pw\n",
        "import bokeh.plotting\n",
        "import panel as pn"
      ],
      "metadata": {
        "id": "211zIxOWX9jb"
      },
      "execution_count": null,
      "outputs": []
    },
    {
      "cell_type": "code",
      "source": [
        "df = pd.read_csv('/dataset.csv')\n",
        "df"
      ],
      "metadata": {
        "id": "lA36USA8YA0N"
      },
      "execution_count": null,
      "outputs": []
    },
    {
      "cell_type": "code",
      "source": [
        "df.isna().sum()"
      ],
      "metadata": {
        "id": "4w_xF0iuYIBN"
      },
      "execution_count": null,
      "outputs": []
    },
    {
      "cell_type": "code",
      "source": [
        "df['Timestamp'] = pd.to_datetime(df['LastUpdatedDate'] + ' ' + df['LastUpdatedTime'],format='%d-%m-%Y %H:%M:%S')\n",
        "\n",
        "df = df.sort_values('Timestamp').reset_index(drop=True)"
      ],
      "metadata": {
        "id": "XsSefFynYLuL"
      },
      "execution_count": null,
      "outputs": []
    },
    {
      "cell_type": "code",
      "source": [
        "df[\"OccupancyRate\"] = df[\"Occupancy\"] / df[\"Capacity\"]"
      ],
      "metadata": {
        "id": "-hCotq90YOaD"
      },
      "execution_count": null,
      "outputs": []
    },
    {
      "cell_type": "code",
      "source": [
        "BASE_PRICE = 10.0\n",
        "α = 0.5\n",
        "df[\"price\"] = BASE_PRICE + α * df[\"OccupancyRate\"].cumsum()\n",
        "df[\"price\"] = df[\"price\"].clip(lower=0.5*BASE_PRICE, upper=2*BASE_PRICE)"
      ],
      "metadata": {
        "id": "FHLoIO4GQYh5"
      },
      "execution_count": null,
      "outputs": []
    },
    {
      "cell_type": "code",
      "source": [
        "df"
      ],
      "metadata": {
        "id": "H691Ykk2YQ8B"
      },
      "execution_count": null,
      "outputs": []
    },
    {
      "cell_type": "code",
      "source": [
        "df[[\"SystemCodeNumber\",\"Timestamp\",\"Occupancy\",\"Capacity\",\"OccupancyRate\",\"price\"]].to_csv(\n",
        "    \"parking_stream.csv\", index=False\n",
        ")"
      ],
      "metadata": {
        "id": "k2duaVR4YVGr"
      },
      "execution_count": null,
      "outputs": []
    },
    {
      "cell_type": "code",
      "source": [
        "class ParkingSchema(pw.Schema):\n",
        "    SystemCodeNumber: str\n",
        "    Timestamp: str\n",
        "    Occupancy: int\n",
        "    Capacity: int\n",
        "    OccupancyRate: float"
      ],
      "metadata": {
        "id": "wZ8mC3FNYeQT"
      },
      "execution_count": null,
      "outputs": []
    },
    {
      "cell_type": "code",
      "source": [
        "data = pw.demo.replay_csv(\"parking_stream.csv\", schema=ParkingSchema, input_rate=100)"
      ],
      "metadata": {
        "id": "yy3hw6zSYgvd"
      },
      "execution_count": null,
      "outputs": []
    },
    {
      "cell_type": "code",
      "source": [
        "fmt = \"%Y-%m-%d %H:%M:%S\"\n",
        "\n",
        "data_with_time = data.with_columns(\n",
        "    t = data.Timestamp.dt.strptime(fmt),\n",
        "    day = data.Timestamp.dt.strptime(fmt).dt.strftime(\"%Y-%m-%d\"),\n",
        "    OccupancyRate = data.Occupancy / data.Capacity,\n",
        "    day_id = data.Timestamp.dt.strptime(fmt).dt.strftime(\"%Y-%m-%d\") + \"_\" + data.SystemCodeNumber,\n",
        ")"
      ],
      "metadata": {
        "id": "Drh_QcYpYjWE"
      },
      "execution_count": null,
      "outputs": []
    },
    {
      "cell_type": "code",
      "source": [
        "id_lookup = (\n",
        "    data_with_time\n",
        "    .select(pw.this.day_id, pw.this.SystemCodeNumber)\n",
        "    .groupby(pw.this.day_id)\n",
        "    .reduce(\n",
        "        day_id = pw.reducers.min(pw.this.day_id),\n",
        "        SystemCodeNumber = pw.reducers.min(pw.this.SystemCodeNumber)\n",
        "    )\n",
        ")"
      ],
      "metadata": {
        "id": "MPGe-M3PYmWx"
      },
      "execution_count": null,
      "outputs": []
    },
    {
      "cell_type": "code",
      "source": [
        "import datetime\n",
        "reduced = (\n",
        "    data_with_time.windowby(\n",
        "        pw.this.t,\n",
        "        instance=pw.this.day_id,\n",
        "        window=pw.temporal.tumbling(datetime.timedelta(days=1)),\n",
        "        behavior=pw.temporal.exactly_once_behavior()\n",
        "    )\n",
        "    .reduce(\n",
        "        t = pw.this._pw_window_end,\n",
        "        occ_max = pw.reducers.max(pw.this.OccupancyRate),\n",
        "        occ_min = pw.reducers.min(pw.this.OccupancyRate),\n",
        "        cap = pw.reducers.max(pw.this.Capacity),\n",
        "        day_id = pw.reducers.min(pw.this.day_id),\n",
        "        lot = pw.reducers.min(pw.this.SystemCodeNumber)\n",
        "    )\n",
        ")\n",
        "delta_window = reduced.with_columns(\n",
        "    price = 10 + (pw.this.occ_max - pw.this.occ_min) / pw.this.cap\n",
        ")"
      ],
      "metadata": {
        "id": "Q7GyU2liYpYR"
      },
      "execution_count": null,
      "outputs": []
    },
    {
      "cell_type": "code",
      "source": [
        "pn.extension()\n",
        "\n",
        "def price_plotter(source):\n",
        "    fig = bokeh.plotting.figure(\n",
        "        height=400,\n",
        "        width=800,\n",
        "        title=\"Pathway: Daily Parking Price\",\n",
        "        x_axis_type=\"datetime\",\n",
        "    )\n",
        "\n",
        "    fig.line(\"t\", \"price\", source=source, line_width=2, color=\"navy\")\n",
        "\n",
        "    fig.circle(\"t\", \"price\", source=source, size=6, color=\"red\")\n",
        "\n",
        "    fig.xaxis.axis_label = \"Time\"\n",
        "    fig.yaxis.axis_label = \"Price ($)\"\n",
        "    return fig\n",
        "\n",
        "viz = delta_window.plot(price_plotter, sorting_col=\"t\")\n",
        "\n",
        "pn.Column(viz).servable()\n",
        "viz.servable()"
      ],
      "metadata": {
        "id": "F2RUO-oCYvwG"
      },
      "execution_count": null,
      "outputs": []
    },
    {
      "cell_type": "code",
      "source": [
        "pw.io.jsonlines.write(\n",
        "    delta_window.select(\n",
        "        pw.this.t,\n",
        "        pw.this.lot,\n",
        "        pw.this.price\n",
        "    ),\n",
        "    \"pricing_output.jsonl\"\n",
        ")"
      ],
      "metadata": {
        "id": "P0hRDN38Y_cw"
      },
      "execution_count": null,
      "outputs": []
    },
    {
      "cell_type": "code",
      "source": [
        "pw.run()"
      ],
      "metadata": {
        "id": "NXi8nL0uZAd3"
      },
      "execution_count": null,
      "outputs": []
    },
    {
      "cell_type": "code",
      "source": [
        "df_price = pd.read_json(\"pricing_output.jsonl\", lines=True)\n",
        "df_price[\"t\"] = pd.to_datetime(df_price[\"t\"])"
      ],
      "metadata": {
        "id": "RD5ff47gZvDB"
      },
      "execution_count": null,
      "outputs": []
    },
    {
      "cell_type": "code",
      "source": [
        "from bokeh.plotting import figure, show, output_notebook , save , output_file\n",
        "from bokeh.layouts import column\n",
        "from bokeh.models import ColumnDataSource\n",
        "from bokeh.palettes import Category10\n",
        "\n",
        "output_notebook()\n",
        "\n",
        "plots = []\n",
        "lots = sorted(df_price[\"lot\"].unique())\n",
        "palette = Category10[10] + Category10[4]\n",
        "\n",
        "for i, lot in enumerate(lots):\n",
        "    df_lot = df_price[df_price[\"lot\"] == lot]\n",
        "    source = ColumnDataSource(df_lot)\n",
        "\n",
        "    fig = figure(\n",
        "        height=300,\n",
        "        width=800,\n",
        "        title=f\"Price Trend - Lot {lot}\",\n",
        "        x_axis_type=\"datetime\"\n",
        "    )\n",
        "    fig.line(\"t\", \"price\", source=source, color=palette[i % len(palette)], line_width=2)\n",
        "    fig.scatter(\"t\", \"price\", source=source, size=5, marker=\"circle\", color=\"black\")\n",
        "    fig.xaxis.axis_label = \"Time\"\n",
        "    fig.yaxis.axis_label = \"Price ($)\"\n",
        "\n",
        "    plots.append(fig)\n",
        "\n",
        "print(f\"Generated {len(plots)} plots for lots: {lots}\")\n",
        "show(column(*plots))"
      ],
      "metadata": {
        "id": "dkWL-eYMZxrN"
      },
      "execution_count": null,
      "outputs": []
    },
    {
      "cell_type": "code",
      "source": [
        "df = pd.read_json(\"pricing_output.jsonl\", lines=True)\n",
        "df[\"t\"] = pd.to_datetime(df[\"t\"])\n",
        "\n",
        "plots = []\n",
        "lots = sorted(df[\"lot\"].unique())\n",
        "palette = Category10[10] + Category10[4]\n",
        "\n",
        "for i, lot in enumerate(lots):\n",
        "    df_lot = df[df[\"lot\"] == lot]\n",
        "    source = ColumnDataSource(df_lot)\n",
        "\n",
        "    fig = figure(\n",
        "        height=300,\n",
        "        width=800,\n",
        "        title=f\"Price Trend - Lot {lot}\",\n",
        "        x_axis_type=\"datetime\"\n",
        "    )\n",
        "    fig.line(\"t\", \"price\", source=source, color=palette[i % len(palette)], line_width=2)\n",
        "    fig.scatter(\"t\", \"price\", source=source, color=\"black\", size=5, marker=\"circle\")\n",
        "    fig.xaxis.axis_label = \"Time\"\n",
        "    fig.yaxis.axis_label = \"Price ($)\"\n",
        "\n",
        "    plots.append(fig)\n",
        "\n",
        "output_file(\"all_lot_prices.html\")\n",
        "save(column(*plots))"
      ],
      "metadata": {
        "id": "JvYpfyorZz_b"
      },
      "execution_count": null,
      "outputs": []
    },
    {
      "cell_type": "code",
      "source": [
        "from bokeh.models import Legend\n",
        "df = pd.read_json(\"pricing_output.jsonl\", lines=True)\n",
        "\n",
        "df[\"t\"] = pd.to_datetime(df[\"t\"])\n",
        "df[\"lot\"] = df[\"lot\"].astype(str)\n",
        "\n",
        "fig = figure(\n",
        "    height=500,\n",
        "    width=900,\n",
        "    title=\"Daily Pricing Across Parking Lots\",\n",
        "    x_axis_type=\"datetime\"\n",
        ")\n",
        "\n",
        "lots = sorted(df[\"lot\"].unique())\n",
        "for i, lot in enumerate(lots):\n",
        "    df_lot = df[df[\"lot\"] == lot]\n",
        "    source = ColumnDataSource(df_lot)\n",
        "\n",
        "    fig.line(\"t\", \"price\", source=source, legend_label=f\"Lot {lot}\",\n",
        "             color=palette[i % len(palette)], line_width=2)\n",
        "\n",
        "fig.xaxis.axis_label = \"Time\"\n",
        "fig.yaxis.axis_label = \"Price ($)\"\n",
        "fig.add_layout(fig.legend[0], 'right')\n",
        "fig.legend.label_text_font_size = \"8pt\"\n",
        "\n",
        "output_file(\"lot_price_plot_from_json.html\")\n",
        "save(fig)"
      ],
      "metadata": {
        "id": "mzwwIn4caC8t"
      },
      "execution_count": null,
      "outputs": []
    }
  ]
}