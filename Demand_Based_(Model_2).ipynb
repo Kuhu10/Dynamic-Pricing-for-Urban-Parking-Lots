{
  "nbformat": 4,
  "nbformat_minor": 0,
  "metadata": {
    "colab": {
      "provenance": []
    },
    "kernelspec": {
      "name": "python3",
      "display_name": "Python 3"
    },
    "language_info": {
      "name": "python"
    }
  },
  "cells": [
    {
      "cell_type": "code",
      "execution_count": null,
      "metadata": {
        "id": "-Y3xnATEuFQr"
      },
      "outputs": [],
      "source": [
        "!pip install pathway bokeh --quiet"
      ]
    },
    {
      "cell_type": "code",
      "source": [
        "import warnings\n",
        "warnings.filterwarnings(\"ignore\", category=UserWarning, module='bokeh')"
      ],
      "metadata": {
        "id": "vImWX8Y6uKXQ"
      },
      "execution_count": null,
      "outputs": []
    },
    {
      "cell_type": "code",
      "source": [
        "import numpy as np\n",
        "import pandas as pd\n",
        "import matplotlib.pyplot as plt\n",
        "import seaborn as sns\n",
        "import datetime\n",
        "from datetime import datetime\n",
        "import pathway as pw\n",
        "import bokeh.plotting\n",
        "import panel as pn"
      ],
      "metadata": {
        "id": "g2E9oLUPuVnA"
      },
      "execution_count": null,
      "outputs": []
    },
    {
      "cell_type": "code",
      "source": [
        "df = pd.read_csv('/content/dataset.csv')\n",
        "df"
      ],
      "metadata": {
        "id": "GG6vMtKauZgb"
      },
      "execution_count": null,
      "outputs": []
    },
    {
      "cell_type": "code",
      "source": [
        "df.isna().sum()"
      ],
      "metadata": {
        "id": "nWTgdPl6ubTy"
      },
      "execution_count": null,
      "outputs": []
    },
    {
      "cell_type": "code",
      "source": [
        "df['Timestamp'] = pd.to_datetime(df['LastUpdatedDate'] + ' ' + df['LastUpdatedTime'],format='%d-%m-%Y %H:%M:%S')\n",
        "\n",
        "df = df.sort_values('Timestamp').reset_index(drop=True)"
      ],
      "metadata": {
        "id": "S4JNy1CnuhVd"
      },
      "execution_count": null,
      "outputs": []
    },
    {
      "cell_type": "code",
      "source": [
        "df[\"OccupancyRate\"] = df[\"Occupancy\"] / df[\"Capacity\"]\n",
        "df"
      ],
      "metadata": {
        "id": "Y5eGvTvbulJN"
      },
      "execution_count": null,
      "outputs": []
    },
    {
      "cell_type": "code",
      "source": [
        "df[[\"SystemCodeNumber\",\"Timestamp\", \"Occupancy\", \"Capacity\", \"QueueLength\", \"TrafficConditionNearby\", \"IsSpecialDay\", \"VehicleType\"]].to_csv(\"parking_stream.csv\", index=False)"
      ],
      "metadata": {
        "id": "QtAhH3DZumdT"
      },
      "execution_count": null,
      "outputs": []
    },
    {
      "cell_type": "code",
      "source": [
        "import pathway as pw"
      ],
      "metadata": {
        "id": "nBpNj4X-05yq"
      },
      "execution_count": null,
      "outputs": []
    },
    {
      "cell_type": "code",
      "source": [
        "class ParkingSchema(pw.Schema):\n",
        "    SystemCodeNumber: str\n",
        "    LastUpdatedDate: str\n",
        "    LastUpdatedTime: str\n",
        "    Occupancy: int\n",
        "    Capacity: int\n",
        "    QueueLength: int\n",
        "    TrafficConditionNearby: str\n",
        "    IsSpecialDay: str\n",
        "    VehicleType: str"
      ],
      "metadata": {
        "id": "BFeINoW1utcb"
      },
      "execution_count": null,
      "outputs": []
    },
    {
      "cell_type": "code",
      "source": [
        "input_table = pw.io.csv.read(\n",
        "    \"dataset.csv\",\n",
        "    schema=ParkingSchema,\n",
        "    mode=\"static\",\n",
        ")"
      ],
      "metadata": {
        "id": "FgnmCW9Xuwzz"
      },
      "execution_count": null,
      "outputs": []
    },
    {
      "cell_type": "code",
      "source": [
        "traffic_map = {\"Low\": 1, \"Medium\": 2, \"High\": 3}\n",
        "vehicle_weights = {\"car\": 0.1, \"bike\": 0.05, \"truck\": 0.2}\n",
        "BASE_PRICE = 10.0\n",
        "α, β, γ, δ, λ = 0.5, 0.3, 0.2, 0.4, 0.6\n",
        "\n",
        "cleaned = input_table.select(\n",
        "    input_table.SystemCodeNumber,\n",
        "    input_table.LastUpdatedDate,\n",
        "    input_table.LastUpdatedTime,\n",
        "    occupancy_rate=pw.apply(lambda o, c: o / c if c else 0, input_table.Occupancy, input_table.Capacity),\n",
        "    queue=input_table.QueueLength,\n",
        "    traffic_num=pw.apply(lambda x: traffic_map.get(x, 2), input_table.TrafficConditionNearby),\n",
        "    is_special=pw.apply(lambda x: 1 if x.lower() == \"yes\" else 0, input_table.IsSpecialDay),\n",
        "    vehicle_weight=pw.apply(lambda x: vehicle_weights.get(x.lower(), 0), input_table.VehicleType)\n",
        ")\n",
        "\n",
        "with_demand = cleaned.select(\n",
        "    cleaned.SystemCodeNumber,\n",
        "    cleaned.LastUpdatedDate,\n",
        "    cleaned.LastUpdatedTime,\n",
        "    cleaned.occupancy_rate,\n",
        "    cleaned.queue,\n",
        "    cleaned.traffic_num,\n",
        "    cleaned.is_special,\n",
        "    cleaned.vehicle_weight,\n",
        "    demand=pw.apply(\n",
        "        lambda o, q, t, s, v: α * o + β * q - γ * t + δ * s + v,\n",
        "        cleaned.occupancy_rate, cleaned.queue, cleaned.traffic_num, cleaned.is_special, cleaned.vehicle_weight\n",
        "    )\n",
        ")\n",
        "\n",
        "final = with_demand.select(\n",
        "    with_demand.SystemCodeNumber,\n",
        "    with_demand.LastUpdatedDate,\n",
        "    with_demand.LastUpdatedTime,\n",
        "    with_demand.demand,\n",
        "    norm_demand=pw.apply(lambda d: (d - 0.0) / (3.0 - 0.0 + 1e-6), with_demand.demand),\n",
        "    price=pw.apply(lambda d: max(min(BASE_PRICE * (1 + λ * ((d - 0.0) / (3.0 - 0.0 + 1e-6))), 2 * BASE_PRICE), 0.5 * BASE_PRICE),\n",
        "                  with_demand.demand)\n",
        ")"
      ],
      "metadata": {
        "id": "dm_RALMl1FMX"
      },
      "execution_count": null,
      "outputs": []
    },
    {
      "cell_type": "code",
      "source": [
        "pw.io.csv.write(final, filename=\"model2_stream_output.csv\")\n",
        "pw.run()"
      ],
      "metadata": {
        "id": "X7KPZnLe1cfe"
      },
      "execution_count": null,
      "outputs": []
    },
    {
      "cell_type": "code",
      "source": [
        "print(df.columns.tolist())"
      ],
      "metadata": {
        "id": "MDbZyDyc-1pd"
      },
      "execution_count": null,
      "outputs": []
    },
    {
      "cell_type": "code",
      "source": [
        "import pandas as pd\n",
        "\n",
        "df_streamed = pd.read_csv(\"model2_stream_output.csv\")\n",
        "\n",
        "df_streamed[\"timestamp\"] = pd.to_datetime(\n",
        "    df_streamed[\"LastUpdatedDate\"] + \" \" + df_streamed[\"LastUpdatedTime\"],\n",
        "    errors=\"coerce\",\n",
        "    dayfirst=True\n",
        ")\n",
        "\n",
        "df_streamed[\"date\"] = df_streamed[\"timestamp\"].dt.date\n",
        "df_streamed[\"lot\"] = df_streamed[\"SystemCodeNumber\"]\n",
        "\n",
        "daily_avg = df_streamed.groupby([\"lot\", \"date\"])[\"price\"].mean().reset_index()\n",
        "daily_avg[\"date_str\"] = daily_avg[\"date\"].astype(str)"
      ],
      "metadata": {
        "id": "LWls63gzNTex"
      },
      "execution_count": null,
      "outputs": []
    },
    {
      "cell_type": "code",
      "source": [
        "from bokeh.layouts import column\n",
        "from bokeh.models import ColumnDataSource, HoverTool\n",
        "from bokeh.plotting import figure, show, output_notebook\n",
        "output_notebook()\n",
        "\n",
        "plots = []\n",
        "\n",
        "for lot_id in df_streamed[\"SystemCodeNumber\"].unique():\n",
        "    lot_df = df_streamed[df_streamed[\"SystemCodeNumber\"] == lot_id].copy()\n",
        "    lot_df = lot_df.sort_values(\"timestamp\")\n",
        "    source = ColumnDataSource(lot_df)\n",
        "\n",
        "    p = figure(\n",
        "        title=f\"Model 2 Price Trend – Lot: {lot_id}\",\n",
        "        x_axis_type=\"datetime\",\n",
        "        width=900,\n",
        "        height=300,\n",
        "        tools=\"pan,box_zoom,reset,save\"\n",
        "    )\n",
        "\n",
        "    p.line(x=\"timestamp\", y=\"price\", source=source, line_width=2, color=\"steelblue\", legend_label=\"Price\")\n",
        "    p.circle(x=\"timestamp\", y=\"price\", source=source, size=4, color=\"steelblue\")\n",
        "\n",
        "    hover = HoverTool(\n",
        "        tooltips=[\n",
        "            (\"Timestamp\", \"@timestamp{%F %H:%M}\"),\n",
        "            (\"Price\", \"@price{0.00}\")\n",
        "        ],\n",
        "        formatters={\"@timestamp\": \"datetime\"},\n",
        "        mode=\"vline\"\n",
        "    )\n",
        "    p.add_tools(hover)\n",
        "\n",
        "    p.xaxis.axis_label = \"Time\"\n",
        "    p.yaxis.axis_label = \"Price\"\n",
        "    p.legend.visible = False\n",
        "    p.xaxis.major_label_orientation = 0.8\n",
        "\n",
        "    plots.append(p)\n",
        "\n",
        "# Display all plots in a scrollable column\n",
        "show(column(*plots))"
      ],
      "metadata": {
        "id": "gm5C-TlKOcXc"
      },
      "execution_count": null,
      "outputs": []
    }
  ]
}